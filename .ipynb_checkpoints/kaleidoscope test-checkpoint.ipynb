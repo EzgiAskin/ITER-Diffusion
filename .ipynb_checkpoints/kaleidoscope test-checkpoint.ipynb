{
 "cells": [
  {
   "cell_type": "code",
   "execution_count": 1,
   "metadata": {},
   "outputs": [],
   "source": [
    "import numpy as np"
   ]
  },
  {
   "cell_type": "code",
   "execution_count": null,
   "metadata": {},
   "outputs": [],
   "source": [
    "episode = dict(o=obs,\n",
    "               u=acts,\n",
    "               g=goals,\n",
    "               ag=achieved_goals)"
   ]
  },
  {
   "cell_type": "code",
   "execution_count": null,
   "metadata": {},
   "outputs": [],
   "source": [
    "COUNT_UNVALID_OBJ = True\n",
    "unvalid_episode = False\n",
    "\n",
    "original_ka_episodes = []\n",
    "z_theta_set\n",
    "\n",
    "def mirror_process(obs,acts,goals,achieved_goals):\n",
    "    original_ka_episodes = []\n",
    "    for z_theta in z_theta_set:\n",
    "        s_goals = []\n",
    "        s_obs = []\n",
    "        s_acts = []\n",
    "        s_achieved_goals = []\n",
    "\n",
    "        y_goals = []\n",
    "        y_obs = []\n",
    "        y_acts = []\n",
    "        y_achieved_goals = []\n",
    "\n",
    "        for goal in goals:\n",
    "            s_goal = self.mirror.kaleidoscope_robot(goal.copy(),z_theta)\n",
    "            s_goals.append(s_goal.copy())\n",
    "            #if COUNT_UNVALID_OBJ == False:\n",
    "                #if s_goal > ???:\n",
    "                    #unvalid_episode = True\n",
    "                    #break\n",
    "\n",
    "            y_goal = self.mirror.y_mirror(s_goal.copy())\n",
    "            y_goals.append(y_goal.copy())\n",
    "\n",
    "    #     if unvalid_episode:\n",
    "    #         unvalid_episode = False\n",
    "    #         break\n",
    "\n",
    "        for ob in obs:\n",
    "            s_ob = self.mirror.kaleidoscope_robot(ob.copy(),z_theta)\n",
    "            s_obs.append(s_ob.copy())\n",
    "            y_ob = self.mirror.y_mirror(s_ob.copy())\n",
    "            y_obs.append(y_ob.copy())\n",
    "\n",
    "        for act in acts:\n",
    "            s_act = self.mirror.kaleidoscope_robot(act.copy(),z_theta)\n",
    "            s_acts.append(s_act.copy())\n",
    "            y_act = self.mirror.y_mirror(s_act.copy())\n",
    "            y_acts.append(y_act.copy())\n",
    "\n",
    "        for achieved_goal in achieved_goals:\n",
    "            s_achieved_goal = self.mirror.kaleidoscope_robot(achieved_goal.copy(),z_theta)\n",
    "            s_achieved_goals.append(s_achieved_goal.copy())\n",
    "            y_achieved_goal = self.mirror.y_mirror(s_achieved_goal.copy())\n",
    "            y_achieved_goals.append(y_achieved_goal.copy())\n",
    "\n",
    "\n",
    "        original_ka_episodes.append([s_obs, s_acts, s_goals, s_achieved_goals])\n",
    "        original_ka_episodes.append([y_obs, y_acts, y_goals, y_achieved_goals])\n",
    "    return original_ka_episodes"
   ]
  },
  {
   "cell_type": "code",
   "execution_count": null,
   "metadata": {},
   "outputs": [],
   "source": []
  },
  {
   "cell_type": "code",
   "execution_count": null,
   "metadata": {},
   "outputs": [],
   "source": []
  },
  {
   "cell_type": "code",
   "execution_count": null,
   "metadata": {},
   "outputs": [],
   "source": []
  },
  {
   "cell_type": "code",
   "execution_count": null,
   "metadata": {},
   "outputs": [],
   "source": []
  },
  {
   "cell_type": "code",
   "execution_count": null,
   "metadata": {},
   "outputs": [],
   "source": []
  },
  {
   "cell_type": "code",
   "execution_count": null,
   "metadata": {},
   "outputs": [],
   "source": []
  },
  {
   "cell_type": "code",
   "execution_count": null,
   "metadata": {},
   "outputs": [],
   "source": []
  },
  {
   "cell_type": "code",
   "execution_count": null,
   "metadata": {},
   "outputs": [],
   "source": []
  },
  {
   "cell_type": "code",
   "execution_count": null,
   "metadata": {},
   "outputs": [],
   "source": []
  },
  {
   "cell_type": "code",
   "execution_count": null,
   "metadata": {},
   "outputs": [],
   "source": []
  },
  {
   "cell_type": "code",
   "execution_count": 6,
   "metadata": {},
   "outputs": [],
   "source": [
    "a = np.array([1,2,3])\n",
    "b = np.array([[1,2],[4,3]])\n",
    "c = np.array([66,88])\n",
    "q = np.array([221,332,323])\n",
    "w = np.array([[113,1232],[1234,3213]])\n",
    "e = np.array([62316,81238])\n",
    "e = []"
   ]
  },
  {
   "cell_type": "code",
   "execution_count": 9,
   "metadata": {},
   "outputs": [],
   "source": [
    "e.append([a,b])\n",
    "e.append([c])"
   ]
  },
  {
   "cell_type": "code",
   "execution_count": 10,
   "metadata": {},
   "outputs": [
    {
     "data": {
      "text/plain": [
       "[[array([1, 2, 3]), array([[1, 2],\n",
       "         [4, 3]])], [array([66, 88])]]"
      ]
     },
     "execution_count": 10,
     "metadata": {},
     "output_type": "execute_result"
    }
   ],
   "source": [
    "e"
   ]
  },
  {
   "cell_type": "code",
   "execution_count": null,
   "metadata": {},
   "outputs": [],
   "source": []
  }
 ],
 "metadata": {
  "kernelspec": {
   "display_name": "Python 3",
   "language": "python",
   "name": "python3"
  },
  "language_info": {
   "codemirror_mode": {
    "name": "ipython",
    "version": 3
   },
   "file_extension": ".py",
   "mimetype": "text/x-python",
   "name": "python",
   "nbconvert_exporter": "python",
   "pygments_lexer": "ipython3",
   "version": "3.6.8"
  }
 },
 "nbformat": 4,
 "nbformat_minor": 2
}
